{
 "cells": [
  {
   "cell_type": "code",
   "execution_count": 1,
   "metadata": {
    "collapsed": true
   },
   "outputs": [],
   "source": [
    "import pandas as pd\n",
    "import matplotlib.pyplot as plt\n",
    "import numpy as np"
   ]
  },
  {
   "cell_type": "code",
   "execution_count": 2,
   "metadata": {},
   "outputs": [
    {
     "name": "stderr",
     "output_type": "stream",
     "text": [
      "/anaconda3/lib/python3.6/site-packages/IPython/core/interactiveshell.py:2698: DtypeWarning: Columns (60,63) have mixed types. Specify dtype option on import or set low_memory=False.\n",
      "  interactivity=interactivity, compiler=compiler, result=result)\n"
     ]
    }
   ],
   "source": [
    "codes = pd.read_csv(\"MA_BuildingUseCodes_BldgType.csv\", header=3, encoding='latin-1')\n",
    "properties = pd.read_csv(\"property-assessment-fy2017.csv\")"
   ]
  },
  {
   "cell_type": "code",
   "execution_count": 3,
   "metadata": {
    "collapsed": true
   },
   "outputs": [],
   "source": [
    "bldg_type = dict(zip(codes.Code, codes.Building_Category.values))"
   ]
  },
  {
   "cell_type": "code",
   "execution_count": 4,
   "metadata": {
    "collapsed": true
   },
   "outputs": [],
   "source": [
    "buildings = properties[['PTYPE', 'YR_BUILT']]"
   ]
  },
  {
   "cell_type": "code",
   "execution_count": 5,
   "metadata": {},
   "outputs": [
    {
     "name": "stderr",
     "output_type": "stream",
     "text": [
      "/anaconda3/lib/python3.6/site-packages/ipykernel_launcher.py:1: SettingWithCopyWarning: \n",
      "A value is trying to be set on a copy of a slice from a DataFrame.\n",
      "Try using .loc[row_indexer,col_indexer] = value instead\n",
      "\n",
      "See the caveats in the documentation: http://pandas.pydata.org/pandas-docs/stable/indexing.html#indexing-view-versus-copy\n",
      "  \"\"\"Entry point for launching an IPython kernel.\n"
     ]
    }
   ],
   "source": [
    "buildings['BUILDING_TYPE'] = buildings['PTYPE'].map(bldg_type)"
   ]
  },
  {
   "cell_type": "code",
   "execution_count": 6,
   "metadata": {},
   "outputs": [
    {
     "data": {
      "text/plain": [
       "95979"
      ]
     },
     "execution_count": 6,
     "metadata": {},
     "output_type": "execute_result"
    }
   ],
   "source": [
    "buildings = buildings[pd.notnull(buildings['BUILDING_TYPE'])] #the NaN values are individual condos and anything that isn't mapped to a building type. Could be land parcels, etc. \n",
    "len(buildings.index) "
   ]
  },
  {
   "cell_type": "code",
   "execution_count": 7,
   "metadata": {},
   "outputs": [
    {
     "data": {
      "text/plain": [
       "170910"
      ]
     },
     "execution_count": 7,
     "metadata": {},
     "output_type": "execute_result"
    }
   ],
   "source": [
    "len(properties.index) #significantly larger than buildings. to check later - how many CD are dropped? how many land types are dropped? "
   ]
  },
  {
   "cell_type": "code",
   "execution_count": 8,
   "metadata": {
    "collapsed": true
   },
   "outputs": [],
   "source": [
    "#In row 10, there are CD labels for a few rows but not associated CM. How many of these are there? How should they be handled? For now, they're just dropped. Definitely not the best way to handle\n",
    "#Will come back to different ways of handling"
   ]
  },
  {
   "cell_type": "code",
   "execution_count": 9,
   "metadata": {},
   "outputs": [
    {
     "data": {
      "text/plain": [
       "1900.0    10909\n",
       "0.0        7936\n",
       "1920.0     7737\n",
       "1910.0     7317\n",
       "1905.0     7257\n",
       "1890.0     5000\n",
       "1899.0     4905\n",
       "1999.0     3712\n",
       "1950.0     2909\n",
       "1925.0     2764\n",
       "1930.0     2760\n",
       "1935.0     1895\n",
       "1960.0     1640\n",
       "1915.0     1631\n",
       "1880.0     1589\n",
       "1940.0     1532\n",
       "1885.0      956\n",
       "1955.0      881\n",
       "1875.0      668\n",
       "1945.0      666\n",
       "1895.0      554\n",
       "1965.0      551\n",
       "1928.0      539\n",
       "1860.0      438\n",
       "1870.0      425\n",
       "1970.0      408\n",
       "2004.0      405\n",
       "2000.0      356\n",
       "2006.0      349\n",
       "1929.0      349\n",
       "          ...  \n",
       "1847.0        3\n",
       "1811.0        2\n",
       "1833.0        2\n",
       "1785.0        2\n",
       "1821.0        2\n",
       "1822.0        2\n",
       "1809.0        2\n",
       "1841.0        2\n",
       "1725.0        2\n",
       "1780.0        2\n",
       "1799.0        2\n",
       "1752.0        2\n",
       "1798.0        2\n",
       "1832.0        2\n",
       "1807.0        1\n",
       "1803.0        1\n",
       "1804.0        1\n",
       "1806.0        1\n",
       "1802.0        1\n",
       "1816.0        1\n",
       "1808.0        1\n",
       "1700.0        1\n",
       "1814.0        1\n",
       "1819.0        1\n",
       "1760.0        1\n",
       "1823.0        1\n",
       "1710.0        1\n",
       "1775.0        1\n",
       "1779.0        1\n",
       "1792.0        1\n",
       "Name: YR_BUILT, Length: 227, dtype: int64"
      ]
     },
     "execution_count": 9,
     "metadata": {},
     "output_type": "execute_result"
    }
   ],
   "source": [
    "buildings['YR_BUILT'].value_counts() #7,936 0.0 values to drop"
   ]
  },
  {
   "cell_type": "code",
   "execution_count": 10,
   "metadata": {
    "collapsed": true
   },
   "outputs": [],
   "source": [
    "buildings = buildings[buildings.YR_BUILT != 0] #remove data entry errors"
   ]
  },
  {
   "cell_type": "code",
   "execution_count": 11,
   "metadata": {},
   "outputs": [
    {
     "data": {
      "text/plain": [
       "88043"
      ]
     },
     "execution_count": 11,
     "metadata": {},
     "output_type": "execute_result"
    }
   ],
   "source": [
    "len(buildings.index) #88,043"
   ]
  },
  {
   "cell_type": "code",
   "execution_count": 12,
   "metadata": {
    "collapsed": true
   },
   "outputs": [],
   "source": [
    "#match year, building type with count for further processing\n",
    "buildings = buildings.groupby([\"YR_BUILT\", \"BUILDING_TYPE\"]).size().reset_index(name=\"Count\")"
   ]
  },
  {
   "cell_type": "code",
   "execution_count": 13,
   "metadata": {
    "collapsed": true
   },
   "outputs": [],
   "source": [
    "#226 years total\n",
    "years = buildings.YR_BUILT.unique()"
   ]
  },
  {
   "cell_type": "code",
   "execution_count": 14,
   "metadata": {
    "collapsed": true
   },
   "outputs": [],
   "source": [
    "#Creating 226 counts to match years\n",
    "smallFam = [buildings.loc[(buildings['YR_BUILT']==year)&(buildings['BUILDING_TYPE']=='1to6 Family'),'Count'].iloc[0] if (buildings[(buildings['YR_BUILT']==year) & (buildings['BUILDING_TYPE']=='1to6 Family')].empty == False) else 0 for year in years]\n",
    "multiFam = [buildings.loc[(buildings['YR_BUILT']==year)&(buildings['BUILDING_TYPE']=='Multifamily'),'Count'].iloc[0] if (buildings[(buildings['YR_BUILT']==year) & (buildings['BUILDING_TYPE']=='Multifamily')].empty == False) else 0 for year in years]\n",
    "commercial = [buildings.loc[(buildings['YR_BUILT']==year)&(buildings['BUILDING_TYPE']=='Commercial'),'Count'].iloc[0] if (buildings[(buildings['YR_BUILT']==year) & (buildings['BUILDING_TYPE']=='Commercial')].empty == False) else 0 for year in years]\n",
    "industrial = [buildings.loc[(buildings['YR_BUILT']==year)&(buildings['BUILDING_TYPE']=='Industrial'),'Count'].iloc[0] if (buildings[(buildings['YR_BUILT']==year) & (buildings['BUILDING_TYPE']=='Industrial')].empty == False) else 0 for year in years]\n",
    "institutional = [buildings.loc[(buildings['YR_BUILT']==year)&(buildings['BUILDING_TYPE']=='Institutional'),'Count'].iloc[0] if (buildings[(buildings['YR_BUILT']==year) & (buildings['BUILDING_TYPE']=='Institutional')].empty == False) else 0 for year in years]"
   ]
  },
  {
   "cell_type": "code",
   "execution_count": 26,
   "metadata": {},
   "outputs": [
    {
     "data": {
      "image/png": "[encoded data removed]",
      "text/plain": [
       "<matplotlib.figure.Figure at 0x10c516518>"
      ]
     },
     "metadata": {},
     "output_type": "display_data"
    }
   ],
   "source": [
    "#Big variance for count within years. Maybe log scale for readability?\n",
    "#Very few buildings before 1850, so xlim can be fiddled with\n",
    "fig1 = plt.figure()\n",
    "plt.stackplot(years,smallFam, multiFam,commercial,industrial,institutional, labels=['1to6 Family', 'Multifamily', 'Commercial', 'Industrial', 'Institutional'])\n",
    "plt.legend(loc='upper left')\n",
    "plt.xlabel(\"Year\")\n",
    "plt.ylabel(\"# of New Buildings\")\n",
    "plt.xlim(xmin=1700,xmax=2016)\n",
    "plt.show()\n",
    "fig1.savefig(\"Figures/AllDates.png\")"
   ]
  },
  {
   "cell_type": "code",
   "execution_count": 24,
   "metadata": {},
   "outputs": [
    {
     "data": {
      "image/png": "[encoded data removed]",
      "text/plain": [
       "<matplotlib.figure.Figure at 0x10c384630>"
      ]
     },
     "metadata": {},
     "output_type": "display_data"
    }
   ],
   "source": [
    "fig2 = plt.figure()\n",
    "plt.stackplot(years,smallFam, multiFam,commercial,industrial,institutional, labels=['1to6 Family', 'Multifamily', 'Commercial', 'Industrial', 'Institutional'])\n",
    "plt.legend(loc='upper left')\n",
    "plt.xlabel(\"Year\")\n",
    "plt.ylabel(\"# of New Buildings\")\n",
    "plt.xlim(xmin=1850, xmax=2016)\n",
    "plt.show()\n",
    "fig2.savefig(\"Figures/Post1850.png\")"
   ]
  },
  {
   "cell_type": "code",
   "execution_count": null,
   "metadata": {
    "collapsed": true
   },
   "outputs": [],
   "source": []
  }
 ],
 "metadata": {
  "kernelspec": {
   "display_name": "Python 3",
   "language": "python",
   "name": "python3"
  },
  "language_info": {
   "codemirror_mode": {
    "name": "ipython",
    "version": 3
   },
   "file_extension": ".py",
   "mimetype": "text/x-python",
   "name": "python",
   "nbconvert_exporter": "python",
   "pygments_lexer": "ipython3",
   "version": "3.6.3"
  }
 },
 "nbformat": 4,
 "nbformat_minor": 2
}
